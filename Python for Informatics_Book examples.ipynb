{
 "cells": [
  {
   "cell_type": "markdown",
   "metadata": {},
   "source": [
    "##Chapter 2"
   ]
  },
  {
   "cell_type": "code",
   "execution_count": null,
   "metadata": {
    "collapsed": false
   },
   "outputs": [],
   "source": [
    "user_name=raw_input(\"Enter your name:\\n\")\n",
    "print \"Hello \"+user_name"
   ]
  },
  {
   "cell_type": "code",
   "execution_count": null,
   "metadata": {
    "collapsed": false
   },
   "outputs": [],
   "source": [
    "user_hours = int(raw_input(\"Enter the hours you worked this week:\\n\"))\n",
    "user_pay = float(raw_input('Enter the agreed pay:\\n'))\n",
    "weekly_pay = user_hours * user_pay\n",
    "print weekly_pay"
   ]
  },
  {
   "cell_type": "code",
   "execution_count": null,
   "metadata": {
    "collapsed": false
   },
   "outputs": [],
   "source": [
    "width = 17\n",
    "height=12.0\n",
    "\n",
    "new_width_1 = width/2\n",
    "print \"new_width_1 is \", new_width_1, type (new_width_1)\n",
    "new_width_2 = width/2.0\n",
    "print \"new_width_2 is \", new_width_2, type (new_width_2)\n",
    "\n",
    "result= 1+2*5\n",
    "print result, type(result)\n"
   ]
  },
  {
   "cell_type": "code",
   "execution_count": null,
   "metadata": {
    "collapsed": false
   },
   "outputs": [],
   "source": [
    "temper_c= int(raw_input(\"What's the current temperature in Celcius? \\n\"))\n",
    "temper_f = temper_c*2 +30\n",
    "print temper_f"
   ]
  },
  {
   "cell_type": "markdown",
   "metadata": {},
   "source": [
    "## Chapter 3"
   ]
  },
  {
   "cell_type": "markdown",
   "metadata": {},
   "source": [
    "##### Exercise 3.1 Rewrite your pay computation to give the employee 1.5 times the hourly rate for hours worked above 40 hours."
   ]
  },
  {
   "cell_type": "code",
   "execution_count": null,
   "metadata": {
    "collapsed": false
   },
   "outputs": [],
   "source": [
    "#Exercise 3.1 Rewrite your pay computation to give the employee 1.5 times \n",
    "#the hourly rate for hours worked above 40 hours.\n",
    "\n",
    "user_hours = int(raw_input(\"Enter the hours you worked this week:\\n\"))\n",
    "user_pay = float(raw_input('Enter the agreed pay:\\n'))\n",
    "if int(user_hours) > 40:\n",
    "    weekly_pay = 40*user_pay + ((user_hours-40)*1.5*user_pay)\n",
    "else:\n",
    "    weekly_pay = user_hours * user_pay\n",
    "print \"Your weekly payment is $\", weekly_pay"
   ]
  },
  {
   "cell_type": "markdown",
   "metadata": {},
   "source": [
    "##### Exercise 3.2 Rewrite your pay program using try and except so that your program handles non-numeric input gracefully by printing a message and exiting the program."
   ]
  },
  {
   "cell_type": "code",
   "execution_count": null,
   "metadata": {
    "collapsed": false
   },
   "outputs": [],
   "source": [
    "user_hours = raw_input(\"Enter the hours you worked this week:\\n\")\n",
    "user_pay = raw_input('Enter the agreed pay:\\n')\n",
    "try:\n",
    "    if user_hours > 40:\n",
    "        weekly_pay = 40*user_pay + ((user_hours-40)*1.5*user_pay)\n",
    "    else:\n",
    "        weekly_pay = user_hours * user_pay\n",
    "    print \"Your weekly payment is $\", weekly_pay\n",
    "except:\n",
    "    print \"Please enter a numeric input in both required fields\""
   ]
  },
  {
   "cell_type": "markdown",
   "metadata": {
    "collapsed": true
   },
   "source": [
    "##### Exercise 3.3 Write a program to prompt for a score between 0.0 and 1.0. If the score is out of range print an error. If the score is between 0.0 and 1.0, print a grade using the following table:\n",
    "Score Grade\n",
    ">= 0.9 A\n",
    ">= 0.8 B\n",
    ">= 0.7 C\n",
    ">= 0.6 D\n",
    "< 0.6 F\n"
   ]
  },
  {
   "cell_type": "code",
   "execution_count": null,
   "metadata": {
    "collapsed": false
   },
   "outputs": [],
   "source": [
    "try:\n",
    "    score = float(raw_input(\"Please enter a score between 0.0 and 1.0 \\n\"))\n",
    "    if score >1.0:\n",
    "        print \"Value out of range. Enter a value between 0 and 1.\"\n",
    "    elif score >= 0.9:\n",
    "        print \"A\"\n",
    "    elif score >= 0.8:\n",
    "        print \"B\"\n",
    "    elif score >= 0.7:\n",
    "        print \"C\"\n",
    "    elif score >= 0.6:\n",
    "        print \"D\"\n",
    "    elif score < 0.6:\n",
    "        print \"F\"\n",
    "except:\n",
    "    print \"Bad score, please enter a numeric value within the given range\""
   ]
  },
  {
   "cell_type": "markdown",
   "metadata": {},
   "source": [
    "## Chapter 4"
   ]
  },
  {
   "cell_type": "markdown",
   "metadata": {},
   "source": [
    "##### Exercise 4.6 Rewrite your pay computation with time-and-a-half for overtime and create a function called computepay which takes two parameters (hours and rate)."
   ]
  },
  {
   "cell_type": "code",
   "execution_count": null,
   "metadata": {
    "collapsed": false
   },
   "outputs": [],
   "source": [
    "\n",
    "def computerpay(hours, rate):\n",
    "    try:\n",
    "        if hours > 40:\n",
    "            weekly_pay = 40*rate + ((hours-40)*1.5*rate)\n",
    "        else:\n",
    "            weekly_pay = hours * rate\n",
    "        print \"Your weekly payment is $\", weekly_pay\n",
    "    except:\n",
    "        print \"Please enter a numeric input in both required fields\"\n",
    "\n",
    "computerpay(45,10)"
   ]
  },
  {
   "cell_type": "markdown",
   "metadata": {},
   "source": [
    "##### Exercise 4.7 Rewrite the grade program from the previous chapter using a function called computegrade that takes a score as its parameter and returns a grade as a string."
   ]
  },
  {
   "cell_type": "code",
   "execution_count": null,
   "metadata": {
    "collapsed": false
   },
   "outputs": [],
   "source": [
    "def compturergrade(score):\n",
    "    try:\n",
    "        if score >1.0:\n",
    "            print \"Value out of range. Enter a value between 0 and 1.\"\n",
    "        elif score >= 0.9:\n",
    "            print \"A\"\n",
    "        elif score >= 0.8:\n",
    "            print \"B\"\n",
    "        elif score >= 0.7:\n",
    "            print \"C\"\n",
    "        elif score >= 0.6:\n",
    "            print \"D\"\n",
    "        elif score < 0.6:\n",
    "            print \"F\"\n",
    "    except:\n",
    "        print \"Bad score, please enter a numeric value within the given range\"\n",
    "\n",
    "compturergrade(0.5)"
   ]
  },
  {
   "cell_type": "markdown",
   "metadata": {
    "collapsed": true
   },
   "source": [
    "## Chapter 5"
   ]
  },
  {
   "cell_type": "markdown",
   "metadata": {},
   "source": [
    "##### Exercise 5.1 Write a program which repeatedly reads numbers until the user enters “done”. Once “done” is entered, print out the total, count, and average of the numbers. If the user enters anything other than a number, detect their mistake using try and except and print an error message and skip to the next number."
   ]
  },
  {
   "cell_type": "code",
   "execution_count": null,
   "metadata": {
    "collapsed": false
   },
   "outputs": [],
   "source": [
    "def to_number(inp):\n",
    "    try:\n",
    "        return int(inp)\n",
    "    except:\n",
    "        return None\n",
    "\n",
    "def print_answers(my_list):\n",
    "    print \"total = %d, avg = %f, count = %d\" % (\n",
    "        sum(my_list),\n",
    "        float(sum(my_list)) / len(my_list),\n",
    "        len(my_list)\n",
    "    )\n",
    "    \n",
    "my_list = []\n",
    "while True:\n",
    "    user_input = raw_input(\"give a number: \")\n",
    "    number = to_number(user_input)\n",
    "\n",
    "    if number is None:\n",
    "        if user_input == \"done\":\n",
    "            print_answers(my_list)\n",
    "            break\n",
    "        else:\n",
    "            print \"error\"\n",
    "    else:\n",
    "        my_list.append(number)\n"
   ]
  },
  {
   "cell_type": "markdown",
   "metadata": {},
   "source": [
    "##### Exercise 5.2 Write another program that prompts for a list of numbers as above and at the end prints out both the maximum and minimum of the numbers instead of the average."
   ]
  },
  {
   "cell_type": "code",
   "execution_count": null,
   "metadata": {
    "collapsed": false
   },
   "outputs": [],
   "source": [
    "def print_min_max(my_list):\n",
    "    print \"max = %d, min = %d\" % (\n",
    "        max(my_list),\n",
    "        min(my_list)\n",
    "    )\n",
    "    \n",
    "my_list = []\n",
    "while True:\n",
    "    user_input = raw_input(\"give a number: \")\n",
    "    number = to_number(user_input)\n",
    "\n",
    "    if number is None:\n",
    "        if user_input == \"done\":\n",
    "            print_min_max(my_list)\n",
    "            break\n",
    "        else:\n",
    "            print \"error\"\n",
    "    else:\n",
    "        my_list.append(number)"
   ]
  },
  {
   "cell_type": "code",
   "execution_count": null,
   "metadata": {
    "collapsed": true
   },
   "outputs": [],
   "source": []
  }
 ],
 "metadata": {
  "kernelspec": {
   "display_name": "Python 2",
   "language": "python",
   "name": "python2"
  },
  "language_info": {
   "codemirror_mode": {
    "name": "ipython",
    "version": 2
   },
   "file_extension": ".py",
   "mimetype": "text/x-python",
   "name": "python",
   "nbconvert_exporter": "python",
   "pygments_lexer": "ipython2",
   "version": "2.7.10"
  }
 },
 "nbformat": 4,
 "nbformat_minor": 0
}
