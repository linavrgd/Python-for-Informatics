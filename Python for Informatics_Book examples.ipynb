{
 "cells": [
  {
   "cell_type": "markdown",
   "metadata": {},
   "source": [
    "##Chapter 2"
   ]
  },
  {
   "cell_type": "code",
   "execution_count": 3,
   "metadata": {
    "collapsed": false
   },
   "outputs": [
    {
     "name": "stdout",
     "output_type": "stream",
     "text": [
      "Enter your name:\n",
      "Chuck\n",
      "Hello Chuck\n"
     ]
    }
   ],
   "source": [
    "user_name=raw_input(\"Enter your name:\\n\")\n",
    "print \"Hello \"+user_name"
   ]
  },
  {
   "cell_type": "code",
   "execution_count": 8,
   "metadata": {
    "collapsed": false
   },
   "outputs": [
    {
     "name": "stdout",
     "output_type": "stream",
     "text": [
      "Enter the hours you worked this week:\n",
      "35\n",
      "Enter the agreed pay:\n",
      "2.75\n",
      "96.25\n"
     ]
    }
   ],
   "source": [
    "user_hours = int(raw_input(\"Enter the hours you worked this week:\\n\"))\n",
    "user_pay = float(raw_input('Enter the agreed pay:\\n'))\n",
    "weekly_pay = user_hours * user_pay\n",
    "print weekly_pay"
   ]
  },
  {
   "cell_type": "code",
   "execution_count": 15,
   "metadata": {
    "collapsed": false
   },
   "outputs": [
    {
     "name": "stdout",
     "output_type": "stream",
     "text": [
      "new_width_1 is  8 <type 'int'>\n",
      "new_width_2 is  8.5 <type 'float'>\n",
      "11 <type 'int'>\n"
     ]
    }
   ],
   "source": [
    "width = 17\n",
    "height=12.0\n",
    "\n",
    "new_width_1 = width/2\n",
    "print \"new_width_1 is \", new_width_1, type (new_width_1)\n",
    "new_width_2 = width/2.0\n",
    "print \"new_width_2 is \", new_width_2, type (new_width_2)\n",
    "\n",
    "result= 1+2*5\n",
    "print result, type(result)\n"
   ]
  },
  {
   "cell_type": "code",
   "execution_count": 16,
   "metadata": {
    "collapsed": false
   },
   "outputs": [
    {
     "name": "stdout",
     "output_type": "stream",
     "text": [
      "What's the current temperature in Celcius? \n",
      "11\n",
      "52\n"
     ]
    }
   ],
   "source": [
    "temper_c= int(raw_input(\"What's the current temperature in Celcius? \\n\"))\n",
    "temper_f = temper_c*2 +30\n",
    "print temper_f"
   ]
  },
  {
   "cell_type": "markdown",
   "metadata": {},
   "source": [
    "## Chapter 3"
   ]
  },
  {
   "cell_type": "markdown",
   "metadata": {},
   "source": [
    "##### Exercise 3.1 Rewrite your pay computation to give the employee 1.5 times the hourly rate for hours worked above 40 hours."
   ]
  },
  {
   "cell_type": "code",
   "execution_count": 23,
   "metadata": {
    "collapsed": false
   },
   "outputs": [
    {
     "name": "stdout",
     "output_type": "stream",
     "text": [
      "Enter the hours you worked this week:\n",
      "50\n",
      "Enter the agreed pay:\n",
      "1\n",
      "Your weekly payment is $ 55.0\n"
     ]
    }
   ],
   "source": [
    "#Exercise 3.1 Rewrite your pay computation to give the employee 1.5 times \n",
    "#the hourly rate for hours worked above 40 hours.\n",
    "\n",
    "user_hours = int(raw_input(\"Enter the hours you worked this week:\\n\"))\n",
    "user_pay = float(raw_input('Enter the agreed pay:\\n'))\n",
    "if int(user_hours) > 40:\n",
    "    weekly_pay = 40*user_pay + ((user_hours-40)*1.5*user_pay)\n",
    "else:\n",
    "    weekly_pay = user_hours * user_pay\n",
    "print \"Your weekly payment is $\", weekly_pay"
   ]
  },
  {
   "cell_type": "markdown",
   "metadata": {},
   "source": [
    "##### Exercise 3.2 Rewrite your pay program using try and except so that your program handles non-numeric input gracefully by printing a message and exiting the program."
   ]
  },
  {
   "cell_type": "code",
   "execution_count": 27,
   "metadata": {
    "collapsed": false
   },
   "outputs": [
    {
     "name": "stdout",
     "output_type": "stream",
     "text": [
      "Enter the hours you worked this week:\n",
      "thirty\n",
      "Enter the agreed pay:\n",
      "2\n",
      "Please enter a numeric input in both required fields\n"
     ]
    }
   ],
   "source": [
    "user_hours = raw_input(\"Enter the hours you worked this week:\\n\")\n",
    "user_pay = raw_input('Enter the agreed pay:\\n')\n",
    "try:\n",
    "    if user_hours > 40:\n",
    "        weekly_pay = 40*user_pay + ((user_hours-40)*1.5*user_pay)\n",
    "    else:\n",
    "        weekly_pay = user_hours * user_pay\n",
    "    print \"Your weekly payment is $\", weekly_pay\n",
    "except:\n",
    "    print \"Please enter a numeric input in both required fields\""
   ]
  },
  {
   "cell_type": "markdown",
   "metadata": {
    "collapsed": true
   },
   "source": [
    "##### Exercise 3.3 Write a program to prompt for a score between 0.0 and 1.0. If the score is out of range print an error. If the score is between 0.0 and 1.0, print a grade using the following table:\n",
    "Score Grade\n",
    ">= 0.9 A\n",
    ">= 0.8 B\n",
    ">= 0.7 C\n",
    ">= 0.6 D\n",
    "< 0.6 F\n"
   ]
  },
  {
   "cell_type": "code",
   "execution_count": 27,
   "metadata": {
    "collapsed": false
   },
   "outputs": [
    {
     "name": "stdout",
     "output_type": "stream",
     "text": [
      "Please enter a score between 0.0 and 1.0 \n",
      "0.5\n",
      "F\n"
     ]
    }
   ],
   "source": [
    "try:\n",
    "    score = float(raw_input(\"Please enter a score between 0.0 and 1.0 \\n\"))\n",
    "    if score >1.0:\n",
    "        print \"Value out of range. Enter a value between 0 and 1.\"\n",
    "    elif score >= 0.9:\n",
    "        print \"A\"\n",
    "    elif score >= 0.8:\n",
    "        print \"B\"\n",
    "    elif score >= 0.7:\n",
    "        print \"C\"\n",
    "    elif score >= 0.6:\n",
    "        print \"D\"\n",
    "    elif score < 0.6:\n",
    "        print \"F\"\n",
    "except:\n",
    "    print \"Bad score, please enter a numeric value within the given range\""
   ]
  },
  {
   "cell_type": "markdown",
   "metadata": {},
   "source": [
    "## Chapter 4"
   ]
  },
  {
   "cell_type": "markdown",
   "metadata": {},
   "source": [
    "##### Exercise 4.6 Rewrite your pay computation with time-and-a-half for overtime and create a function called computepay which takes two parameters (hours and rate)."
   ]
  },
  {
   "cell_type": "code",
   "execution_count": 46,
   "metadata": {
    "collapsed": false
   },
   "outputs": [
    {
     "name": "stdout",
     "output_type": "stream",
     "text": [
      "Your weekly payment is $ 475.0\n"
     ]
    }
   ],
   "source": [
    "\n",
    "def computerpay(hours, rate):\n",
    "    try:\n",
    "        if hours > 40:\n",
    "            weekly_pay = 40*rate + ((hours-40)*1.5*rate)\n",
    "        else:\n",
    "            weekly_pay = hours * rate\n",
    "        print \"Your weekly payment is $\", weekly_pay\n",
    "    except:\n",
    "        print \"Please enter a numeric input in both required fields\"\n",
    "\n",
    "computerpay(45,10)"
   ]
  },
  {
   "cell_type": "markdown",
   "metadata": {},
   "source": [
    "##### Exercise 4.7 Rewrite the grade program from the previous chapter using a function called computegrade that takes a score as its parameter and returns a grade as a string."
   ]
  },
  {
   "cell_type": "code",
   "execution_count": 52,
   "metadata": {
    "collapsed": false
   },
   "outputs": [
    {
     "name": "stdout",
     "output_type": "stream",
     "text": [
      "F\n"
     ]
    }
   ],
   "source": [
    "def compturergrade(score):\n",
    "    try:\n",
    "        if score >1.0:\n",
    "            print \"Value out of range. Enter a value between 0 and 1.\"\n",
    "        elif score >= 0.9:\n",
    "            print \"A\"\n",
    "        elif score >= 0.8:\n",
    "            print \"B\"\n",
    "        elif score >= 0.7:\n",
    "            print \"C\"\n",
    "        elif score >= 0.6:\n",
    "            print \"D\"\n",
    "        elif score < 0.6:\n",
    "            print \"F\"\n",
    "    except:\n",
    "        print \"Bad score, please enter a numeric value within the given range\"\n",
    "\n",
    "compturergrade(0.5)"
   ]
  },
  {
   "cell_type": "code",
   "execution_count": null,
   "metadata": {
    "collapsed": true
   },
   "outputs": [],
   "source": []
  }
 ],
 "metadata": {
  "kernelspec": {
   "display_name": "Python 2",
   "language": "python",
   "name": "python2"
  },
  "language_info": {
   "codemirror_mode": {
    "name": "ipython",
    "version": 2
   },
   "file_extension": ".py",
   "mimetype": "text/x-python",
   "name": "python",
   "nbconvert_exporter": "python",
   "pygments_lexer": "ipython2",
   "version": "2.7.10"
  }
 },
 "nbformat": 4,
 "nbformat_minor": 0
}
